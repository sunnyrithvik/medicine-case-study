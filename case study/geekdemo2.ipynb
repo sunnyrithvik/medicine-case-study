{
 "cells": [
  {
   "cell_type": "code",
   "execution_count": 1,
   "id": "bdc25340",
   "metadata": {},
   "outputs": [],
   "source": [
    "import requests\n",
    "from bs4 import BeautifulSoup\n",
    "\n",
    "url = \"https://www.webmd.com/drugs/drugreview-9690-ambien-oral?conditionid=&sortval=1&page=4&next_page=true\"\n",
    "\n",
    "headers = {\n",
    "    'User-Agent': 'Mozilla/5.0 (Windows NT 10.0; Win64; x64) AppleWebKit/537.36 (KHTML, like Gecko) Chrome/106.0.0.0 Safari/537.36'\n",
    "}\n",
    "\n",
    "response = requests.get(url, headers=headers)\n",
    "soup = BeautifulSoup(response.content, 'html.parser')\n"
   ]
  },
  {
   "cell_type": "code",
   "execution_count": 2,
   "id": "826df448",
   "metadata": {},
   "outputs": [
    {
     "name": "stdout",
     "output_type": "stream",
     "text": [
      "[<p>Show ratings &amp; reviews for</p>, <p class=\"webmd-select-dropdown__empty\">\n",
      "        No data\n",
      "      </p>, <p><span><svg height=\"15px\" version=\"1.1\" viewbox=\"0 0 14 15\" width=\"14px\" xmlns=\"https://www.w3.org/2000/svg\" xmlns:xlink=\"https://www.w3.org/1999/xlink\"><g fill=\"none\" fill-rule=\"evenodd\" id=\"Page-1\" stroke=\"none\" stroke-width=\"1\"><g fill=\"#000000\" fill-rule=\"nonzero\" id=\"Artboard-Copy-4\" transform=\"translate(-172.000000, -1080.000000)\"><g id=\"Group-20\" transform=\"translate(172.000000, 1078.000000)\"><g id=\"PEOPLE-Copy\" transform=\"translate(0.000000, 2.000000)\"><path d=\"M11,4 C11,1.8 9.2,0 7,0 C4.8,0 3,1.8 3,4 C3,6.2 4.8,8 7,8 C9.2,8 11,6.2 11,4 Z\" id=\"Path\"></path><path d=\"M8.5225,8.24329702 C8.0325,8.42536387 7.525,8.52651211 7,8.52651211 C6.475,8.52651211 5.9675,8.42536387 5.4775,8.24329702 C3.9375,7.65663718 2.2225,8.14214877 1.2075,9.5784539 C0.455,10.6506253 0,12.0262415 0,13.5030059 C0,14.3324216 0.5775,15 1.295,15 L12.705,15 C13.4225,15 14,14.3324216 14,13.5030059 C14,12.0262415 13.545,10.6506253 12.7925,9.5784539 C11.76,8.14214877 10.0625,7.65663718 8.5225,8.24329702 Z\" id=\"Path\"></path></g></g></g></g></svg></span><span class=\"review-count\"> 40 </span> People found this comment helpful </p>, <p>I've been taking Ambien for about 5 yrs. for chronic insomnia and night terror/nightmares. It has been a lifesaver for me but it IS a tricky drug. Take it when you are actually ready to go to sleep and you are already IN BED. Don't get back up!!! or you will be walking around the house eating, having weird conversations with your significant other about things that you would probably not be talkin...</p>, <p><span><svg height=\"15px\" version=\"1.1\" viewbox=\"0 0 14 15\" width=\"14px\" xmlns=\"https://www.w3.org/2000/svg\" xmlns:xlink=\"https://www.w3.org/1999/xlink\"><g fill=\"none\" fill-rule=\"evenodd\" id=\"Page-1\" stroke=\"none\" stroke-width=\"1\"><g fill=\"#000000\" fill-rule=\"nonzero\" id=\"Artboard-Copy-4\" transform=\"translate(-172.000000, -1080.000000)\"><g id=\"Group-20\" transform=\"translate(172.000000, 1078.000000)\"><g id=\"PEOPLE-Copy\" transform=\"translate(0.000000, 2.000000)\"><path d=\"M11,4 C11,1.8 9.2,0 7,0 C4.8,0 3,1.8 3,4 C3,6.2 4.8,8 7,8 C9.2,8 11,6.2 11,4 Z\" id=\"Path\"></path><path d=\"M8.5225,8.24329702 C8.0325,8.42536387 7.525,8.52651211 7,8.52651211 C6.475,8.52651211 5.9675,8.42536387 5.4775,8.24329702 C3.9375,7.65663718 2.2225,8.14214877 1.2075,9.5784539 C0.455,10.6506253 0,12.0262415 0,13.5030059 C0,14.3324216 0.5775,15 1.295,15 L12.705,15 C13.4225,15 14,14.3324216 14,13.5030059 C14,12.0262415 13.545,10.6506253 12.7925,9.5784539 C11.76,8.14214877 10.0625,7.65663718 8.5225,8.24329702 Z\" id=\"Path\"></path></g></g></g></g></svg></span><span class=\"review-count\"> 9 </span> People found this comment helpful </p>, <p>Although it helps you fall asleep, it often stays in your system for greater than 8 hours. Per 60 minutes, it can impair cognition equivalent to being legally drunk. It was not safe to take on days that I was working. </p>, <p class=\"webmd-select-dropdown__empty\">\n",
      "        No data\n",
      "      </p>, <p class=\"description-text\">Although it helps you fall asleep, it often stays in your system for greater than 8 hours. Per 60 minutes, it can impair cognition equivalent to being legally drunk. It was not safe to take on days that I was working. </p>, <p class=\"description-text\">I have hyperinsomina and I take Ambien CR it keeps me sleep an puts me to sleep very quickly. Just have to make sure you can have eight hrs of sleep.</p>, <p class=\"description-text\">Works great when you have trouble falling asleep, not so good when you get addicted to it/use it recreationaly. Going cold turkey off of it is pretty shitty. But overall really effective. </p>, <p class=\"description-text\">Highly satisfied in putting me to sleep but it was draining my memory...I felt like a zombie the next day.</p>, <p class=\"description-text\"><span class=\"showSec\">Helped me fall asleep.  Didn't help me stay asleep.  Primarily because it causes UTI's according to the fine print on the sheet that comes with it.  Because of the UTI's I was constantly getting up to urinate.  It also gave me dyspepsia (3 ulcers) and photopsia (seeing flashes of light).  All these side effects are in the fine print that no one reads, of course.  I stopped taking it cold turkey after I found out about the ulcers.  Detoxing was not pleasant.  I'll never take another.  If you're h</span><span class=\"hiddenSec\">aving problems ask your doctor or pharmacist for a data sheet so you can review it yourself.  They don't read and memorize those sheets and the FDA makes the pharmaceutical companies revise the sheets as new problems arise.  YOU have to read them and look up all the illnesses that are listed.  Go to fda.gov to get the latest information.</span><span class=\"readMore\">Read More <i class=\"webmd-icon-down-arrow\"></i></span><span class=\"readLess hide-text\">Read Less  <i class=\"webmd-icon-up-arrow\"></i></span></p>, <p class=\"description-text\">44 year old male. Chronic trouble sleeping for about two months. Doctor put me on Ambien. Medication works although I feel hung over in the morning.</p>, <p class=\"description-text\">Definitely allowed me to get sleep that I was no getting. There is in me a definite Ambien hangover, however as I am retired it is not an issue.</p>, <p class=\"description-text\">It does make you forget that you sent email or calls if you try to stay awake while taking it.  I have taken it nightly for 20  yrs and it has done me good.  I do find that I have to go to bed within 5-10 minutes after taking it. Without it I awaken hourly all night long.........and that is not good deep sleep.....</p>, <p class=\"description-text\"><span class=\"showSec\">I have had chronic wakefulness for about 25  years and have found nothing that helps me sleep except the 8 years I took Trazadone. However, it was recommended about 3 years ago to get off of it, I don't remember why. Now the Ambien... the prescribed 5 mg doesn't work, nor does increasing it to 10 mg. Thinking about increasing it to 15 just to see if it will help. Just wondering what the maximum dose is. I don't take any other prescription meds, just a lot of vitamins, minerals (including magnesi</span><span class=\"hiddenSec\">um which is supposed to help with sleep)and herbal teas. Someone suggested Vitamin D3 and increasing veggies in the diet. Well, my D3 level is 70, and I eat tons of organic veggies, no grains, no dairy, and only small amounts of organic meat. Fibromyalgia sucks.</span><span class=\"readMore\">Read More <i class=\"webmd-icon-down-arrow\"></i></span><span class=\"readLess hide-text\">Read Less  <i class=\"webmd-icon-up-arrow\"></i></span></p>, <p class=\"description-text\">Zolpidem is the only sleep med that seems to work.  Been using for over 10 years and it is working tremendously in getting solid REM sleep.</p>, <p class=\"description-text\">very good  thank you</p>, <p class=\"description-text\"><span class=\"showSec\">I'm 70 years old and I have had trouble sleeping for as long as I can remember. I have had problems with spinal stenosis for about 10 years and have recently developed a fairly significant case of sciatica. My experience with Zolpidem Tartrate has been very good, so far. I've been taking it for about 6 months. I take 1/2 of a 10 mg. tablet at night before going to bed. I haven't noticed any disturbing side effects, in fact, I don't seem to have problems with restless leg syndrom any more. At my </span><span class=\"hiddenSec\">age I don't worry about an addiction to something like this as getting a decent night's rest/sleep is more important to me. I have tried Tylenol PM but I wake up feeling like a \"zombie\", my doctor recommended not using OTC sleep aids for that reason.</span><span class=\"readMore\">Read More <i class=\"webmd-icon-down-arrow\"></i></span><span class=\"readLess hide-text\">Read Less  <i class=\"webmd-icon-up-arrow\"></i></span></p>, <p class=\"description-text\"><span class=\"showSec\">I am 70 years old and have been taking ambien for 24 years. I started taking it when my husband was diagnosed with cancer and I couldn't turn my thoughts and worries off. It provides me with a restful nights sleep. I do not have any side effects at all. I get out of bed ready for the day. I have tried Trazadone, it did not work. I have tried Doxipin, it didn't work either and as a side effect I had uncontrollable hunger. We are all different and our bodies process things differently. I can't tak</span><span class=\"hiddenSec\">e ibuprofen but I know millions of people can without side effects.</span><span class=\"readMore\">Read More <i class=\"webmd-icon-down-arrow\"></i></span><span class=\"readLess hide-text\">Read Less  <i class=\"webmd-icon-up-arrow\"></i></span></p>, <p class=\"description-text\"><span class=\"showSec\">I have a warning to all considering this drug, and years ago, I in fact wrote to the FDA to beg them to put a warning on this drug. I think they did, and so that will help, I hope..I was  put on Ambien in 2004. I am still on it, and it does help turn off the switch, but now I am extremely addicted to the drug. I have seen many doctors, done sleep studies, and tried other sleep and anti anxiety meds. None have helped. I have chronic severe pain, and fibromyalgia. I exercise dailt, eat right, dont</span><span class=\"hiddenSec\"> smoke, dont drink. I am at a good weight. My warning to all? I now have been diagnosed with mild cognitve impairment. I am 44, and a college graduate. It is now physically impossible to fall asleep without this drug. I have tried many many times. I cannot even nap.. I am always tired, nauseous, and have many memory issues. I now cannot work more than part time..please take heed of this warning..I'm begging you.</span><span class=\"readMore\">Read More <i class=\"webmd-icon-down-arrow\"></i></span><span class=\"readLess hide-text\">Read Less  <i class=\"webmd-icon-up-arrow\"></i></span></p>, <p class=\"description-text\"><span class=\"showSec\">I have only been on this medication for about 5 weeks and it works really well for me. Its so nice to fall asleep and sleep through the night without feeling dead inside. I was taking 450 mgs of Trazodone and was still not sleeping well. I have also tryed to stop drinking anything after 7pm so I don't have to pee in the middle of the night. I have never tryed any kind of sleep aid in my life, I was taking the Trazodone for depression but I love this medication. If I do wake up I can go back to s</span><span class=\"hiddenSec\">leep within minutes. Before I would have to take a couple of melatonin to fall back to sleep. It has also taken away my Restless leg syndrome so I no longer have to take medication for that! I think that was caused by the high dose of Trazodone!!</span><span class=\"readMore\">Read More <i class=\"webmd-icon-down-arrow\"></i></span><span class=\"readLess hide-text\">Read Less  <i class=\"webmd-icon-up-arrow\"></i></span></p>, <p class=\"description-text\">ineffective and may have increased my anxiety that is the sole source of the difficulty I have falling asleep. It worked in the very beginning but then after 2 weeks of use, I would fall asleep only to wake up 2 hours later with a panic attack. I dumped the entire bottle down the toilet. I am using other alternatives of which meditation helped the most.</p>, <p class=\"description-text\"><span class=\"showSec\">Prescribed ambien 5mg 5years ago took for 2 years every night thought it was amazing at first could finally fall asleep and stay asleep all night after  a year or so started getting panic attacks and anxiety and wild nightmares  that I never had before went to another doctor who said that I never should have taken nightly and for 2 years was taken off slowly and all of the above stopped .   Also experienced ear ringing with OTC sleeping pills I now take 3mg melatonin and chelated magnesium it is</span><span class=\"hiddenSec\"> working well for me please be careful with this medication it was too good to be true and dangerous </span><span class=\"readMore\">Read More <i class=\"webmd-icon-down-arrow\"></i></span><span class=\"readLess hide-text\">Read Less  <i class=\"webmd-icon-up-arrow\"></i></span></p>, <p> The opinions expressed in WebMD User-generated content areas like communities, reviews, ratings, or blogs are solely those of the User, who may or may not have medical or scientific training. These opinions do not represent the opinions of WebMD. User-generated content areas are not reviewed by a WebMD physician or any member of the WebMD editorial staff for accuracy, balance, objectivity, or any other reason except for compliance with our Terms and Conditions. </p>]\n"
     ]
    }
   ],
   "source": [
    "g = soup.find('div', class_='reviews-page')\n",
    "content = g.find_all('p')\n",
    " \n",
    "print(content)"
   ]
  },
  {
   "cell_type": "code",
   "execution_count": 3,
   "id": "2bb05ec3",
   "metadata": {},
   "outputs": [
    {
     "name": "stdout",
     "output_type": "stream",
     "text": [
      "Show ratings & reviews for\n",
      "\n",
      "        No data\n",
      "      \n",
      " 40  People found this comment helpful \n",
      "I've been taking Ambien for about 5 yrs. for chronic insomnia and night terror/nightmares. It has been a lifesaver for me but it IS a tricky drug. Take it when you are actually ready to go to sleep and you are already IN BED. Don't get back up!!! or you will be walking around the house eating, having weird conversations with your significant other about things that you would probably not be talkin...\n",
      " 9  People found this comment helpful \n",
      "Although it helps you fall asleep, it often stays in your system for greater than 8 hours. Per 60 minutes, it can impair cognition equivalent to being legally drunk. It was not safe to take on days that I was working. \n",
      "\n",
      "        No data\n",
      "      \n",
      "Although it helps you fall asleep, it often stays in your system for greater than 8 hours. Per 60 minutes, it can impair cognition equivalent to being legally drunk. It was not safe to take on days that I was working. \n",
      "I have hyperinsomina and I take Ambien CR it keeps me sleep an puts me to sleep very quickly. Just have to make sure you can have eight hrs of sleep.\n",
      "Works great when you have trouble falling asleep, not so good when you get addicted to it/use it recreationaly. Going cold turkey off of it is pretty shitty. But overall really effective. \n",
      "Highly satisfied in putting me to sleep but it was draining my memory...I felt like a zombie the next day.\n",
      "Helped me fall asleep.  Didn't help me stay asleep.  Primarily because it causes UTI's according to the fine print on the sheet that comes with it.  Because of the UTI's I was constantly getting up to urinate.  It also gave me dyspepsia (3 ulcers) and photopsia (seeing flashes of light).  All these side effects are in the fine print that no one reads, of course.  I stopped taking it cold turkey after I found out about the ulcers.  Detoxing was not pleasant.  I'll never take another.  If you're having problems ask your doctor or pharmacist for a data sheet so you can review it yourself.  They don't read and memorize those sheets and the FDA makes the pharmaceutical companies revise the sheets as new problems arise.  YOU have to read them and look up all the illnesses that are listed.  Go to fda.gov to get the latest information.Read More Read Less  \n",
      "44 year old male. Chronic trouble sleeping for about two months. Doctor put me on Ambien. Medication works although I feel hung over in the morning.\n",
      "Definitely allowed me to get sleep that I was no getting. There is in me a definite Ambien hangover, however as I am retired it is not an issue.\n",
      "It does make you forget that you sent email or calls if you try to stay awake while taking it.  I have taken it nightly for 20  yrs and it has done me good.  I do find that I have to go to bed within 5-10 minutes after taking it. Without it I awaken hourly all night long.........and that is not good deep sleep.....\n",
      "I have had chronic wakefulness for about 25  years and have found nothing that helps me sleep except the 8 years I took Trazadone. However, it was recommended about 3 years ago to get off of it, I don't remember why. Now the Ambien... the prescribed 5 mg doesn't work, nor does increasing it to 10 mg. Thinking about increasing it to 15 just to see if it will help. Just wondering what the maximum dose is. I don't take any other prescription meds, just a lot of vitamins, minerals (including magnesium which is supposed to help with sleep)and herbal teas. Someone suggested Vitamin D3 and increasing veggies in the diet. Well, my D3 level is 70, and I eat tons of organic veggies, no grains, no dairy, and only small amounts of organic meat. Fibromyalgia sucks.Read More Read Less  \n",
      "Zolpidem is the only sleep med that seems to work.  Been using for over 10 years and it is working tremendously in getting solid REM sleep.\n",
      "very good  thank you\n",
      "I'm 70 years old and I have had trouble sleeping for as long as I can remember. I have had problems with spinal stenosis for about 10 years and have recently developed a fairly significant case of sciatica. My experience with Zolpidem Tartrate has been very good, so far. I've been taking it for about 6 months. I take 1/2 of a 10 mg. tablet at night before going to bed. I haven't noticed any disturbing side effects, in fact, I don't seem to have problems with restless leg syndrom any more. At my age I don't worry about an addiction to something like this as getting a decent night's rest/sleep is more important to me. I have tried Tylenol PM but I wake up feeling like a \"zombie\", my doctor recommended not using OTC sleep aids for that reason.Read More Read Less  \n",
      "I am 70 years old and have been taking ambien for 24 years. I started taking it when my husband was diagnosed with cancer and I couldn't turn my thoughts and worries off. It provides me with a restful nights sleep. I do not have any side effects at all. I get out of bed ready for the day. I have tried Trazadone, it did not work. I have tried Doxipin, it didn't work either and as a side effect I had uncontrollable hunger. We are all different and our bodies process things differently. I can't take ibuprofen but I know millions of people can without side effects.Read More Read Less  \n",
      "I have a warning to all considering this drug, and years ago, I in fact wrote to the FDA to beg them to put a warning on this drug. I think they did, and so that will help, I hope..I was  put on Ambien in 2004. I am still on it, and it does help turn off the switch, but now I am extremely addicted to the drug. I have seen many doctors, done sleep studies, and tried other sleep and anti anxiety meds. None have helped. I have chronic severe pain, and fibromyalgia. I exercise dailt, eat right, dont smoke, dont drink. I am at a good weight. My warning to all? I now have been diagnosed with mild cognitve impairment. I am 44, and a college graduate. It is now physically impossible to fall asleep without this drug. I have tried many many times. I cannot even nap.. I am always tired, nauseous, and have many memory issues. I now cannot work more than part time..please take heed of this warning..I'm begging you.Read More Read Less  \n",
      "I have only been on this medication for about 5 weeks and it works really well for me. Its so nice to fall asleep and sleep through the night without feeling dead inside. I was taking 450 mgs of Trazodone and was still not sleeping well. I have also tryed to stop drinking anything after 7pm so I don't have to pee in the middle of the night. I have never tryed any kind of sleep aid in my life, I was taking the Trazodone for depression but I love this medication. If I do wake up I can go back to sleep within minutes. Before I would have to take a couple of melatonin to fall back to sleep. It has also taken away my Restless leg syndrome so I no longer have to take medication for that! I think that was caused by the high dose of Trazodone!!Read More Read Less  \n",
      "ineffective and may have increased my anxiety that is the sole source of the difficulty I have falling asleep. It worked in the very beginning but then after 2 weeks of use, I would fall asleep only to wake up 2 hours later with a panic attack. I dumped the entire bottle down the toilet. I am using other alternatives of which meditation helped the most.\n",
      "Prescribed ambien 5mg 5years ago took for 2 years every night thought it was amazing at first could finally fall asleep and stay asleep all night after  a year or so started getting panic attacks and anxiety and wild nightmares  that I never had before went to another doctor who said that I never should have taken nightly and for 2 years was taken off slowly and all of the above stopped .   Also experienced ear ringing with OTC sleeping pills I now take 3mg melatonin and chelated magnesium it is working well for me please be careful with this medication it was too good to be true and dangerous Read More Read Less  \n",
      " The opinions expressed in WebMD User-generated content areas like communities, reviews, ratings, or blogs are solely those of the User, who may or may not have medical or scientific training. These opinions do not represent the opinions of WebMD. User-generated content areas are not reviewed by a WebMD physician or any member of the WebMD editorial staff for accuracy, balance, objectivity, or any other reason except for compliance with our Terms and Conditions. \n"
     ]
    }
   ],
   "source": [
    "for line in content:\n",
    "    print(line.text)"
   ]
  },
  {
   "cell_type": "code",
   "execution_count": 10,
   "id": "f81ca75c",
   "metadata": {},
   "outputs": [
    {
     "name": "stdout",
     "output_type": "stream",
     "text": [
      "7\n",
      "Although it helps you fall asleep, it often stays in your system for greater than 8 hours. Per 60 minutes, it can impair cognition equivalent to being legally drunk. It was not safe to take on days that I was working. \n",
      "\n",
      "\n",
      "8\n",
      "I have hyperinsomina and I take Ambien CR it keeps me sleep an puts me to sleep very quickly. Just have to make sure you can have eight hrs of sleep.\n",
      "\n",
      "\n",
      "9\n",
      "Works great when you have trouble falling asleep, not so good when you get addicted to it/use it recreationaly. Going cold turkey off of it is pretty shitty. But overall really effective. \n",
      "\n",
      "\n",
      "10\n",
      "Highly satisfied in putting me to sleep but it was draining my memory...I felt like a zombie the next day.\n",
      "\n",
      "\n",
      "11\n",
      "Helped me fall asleep.  Didn't help me stay asleep.  Primarily because it causes UTI's according to the fine print on the sheet that comes with it.  Because of the UTI's I was constantly getting up to urinate.  It also gave me dyspepsia (3 ulcers) and photopsia (seeing flashes of light).  All these side effects are in the fine print that no one reads, of course.  I stopped taking it cold turkey after I found out about the ulcers.  Detoxing was not pleasant.  I'll never take another.  If you're having problems ask your doctor or pharmacist for a data sheet so you can review it yourself.  They don't read and memorize those sheets and the FDA makes the pharmaceutical companies revise the sheets as new problems arise.  YOU have to read them and look up all the illnesses that are listed.  Go to fda.gov to get the latest information.Read More Read Less  \n",
      "\n",
      "\n",
      "12\n",
      "44 year old male. Chronic trouble sleeping for about two months. Doctor put me on Ambien. Medication works although I feel hung over in the morning.\n",
      "\n",
      "\n",
      "13\n",
      "Definitely allowed me to get sleep that I was no getting. There is in me a definite Ambien hangover, however as I am retired it is not an issue.\n",
      "\n",
      "\n",
      "14\n",
      "It does make you forget that you sent email or calls if you try to stay awake while taking it.  I have taken it nightly for 20  yrs and it has done me good.  I do find that I have to go to bed within 5-10 minutes after taking it. Without it I awaken hourly all night long.........and that is not good deep sleep.....\n",
      "\n",
      "\n",
      "15\n",
      "I have had chronic wakefulness for about 25  years and have found nothing that helps me sleep except the 8 years I took Trazadone. However, it was recommended about 3 years ago to get off of it, I don't remember why. Now the Ambien... the prescribed 5 mg doesn't work, nor does increasing it to 10 mg. Thinking about increasing it to 15 just to see if it will help. Just wondering what the maximum dose is. I don't take any other prescription meds, just a lot of vitamins, minerals (including magnesium which is supposed to help with sleep)and herbal teas. Someone suggested Vitamin D3 and increasing veggies in the diet. Well, my D3 level is 70, and I eat tons of organic veggies, no grains, no dairy, and only small amounts of organic meat. Fibromyalgia sucks.Read More Read Less  \n",
      "\n",
      "\n",
      "16\n",
      "Zolpidem is the only sleep med that seems to work.  Been using for over 10 years and it is working tremendously in getting solid REM sleep.\n",
      "\n",
      "\n",
      "17\n",
      "very good  thank you\n",
      "\n",
      "\n",
      "18\n",
      "I'm 70 years old and I have had trouble sleeping for as long as I can remember. I have had problems with spinal stenosis for about 10 years and have recently developed a fairly significant case of sciatica. My experience with Zolpidem Tartrate has been very good, so far. I've been taking it for about 6 months. I take 1/2 of a 10 mg. tablet at night before going to bed. I haven't noticed any disturbing side effects, in fact, I don't seem to have problems with restless leg syndrom any more. At my age I don't worry about an addiction to something like this as getting a decent night's rest/sleep is more important to me. I have tried Tylenol PM but I wake up feeling like a \"zombie\", my doctor recommended not using OTC sleep aids for that reason.Read More Read Less  \n",
      "\n",
      "\n",
      "19\n",
      "I am 70 years old and have been taking ambien for 24 years. I started taking it when my husband was diagnosed with cancer and I couldn't turn my thoughts and worries off. It provides me with a restful nights sleep. I do not have any side effects at all. I get out of bed ready for the day. I have tried Trazadone, it did not work. I have tried Doxipin, it didn't work either and as a side effect I had uncontrollable hunger. We are all different and our bodies process things differently. I can't take ibuprofen but I know millions of people can without side effects.Read More Read Less  \n",
      "\n",
      "\n",
      "20\n",
      "I have a warning to all considering this drug, and years ago, I in fact wrote to the FDA to beg them to put a warning on this drug. I think they did, and so that will help, I hope..I was  put on Ambien in 2004. I am still on it, and it does help turn off the switch, but now I am extremely addicted to the drug. I have seen many doctors, done sleep studies, and tried other sleep and anti anxiety meds. None have helped. I have chronic severe pain, and fibromyalgia. I exercise dailt, eat right, dont smoke, dont drink. I am at a good weight. My warning to all? I now have been diagnosed with mild cognitve impairment. I am 44, and a college graduate. It is now physically impossible to fall asleep without this drug. I have tried many many times. I cannot even nap.. I am always tired, nauseous, and have many memory issues. I now cannot work more than part time..please take heed of this warning..I'm begging you.Read More Read Less  \n",
      "\n",
      "\n",
      "21\n",
      "I have only been on this medication for about 5 weeks and it works really well for me. Its so nice to fall asleep and sleep through the night without feeling dead inside. I was taking 450 mgs of Trazodone and was still not sleeping well. I have also tryed to stop drinking anything after 7pm so I don't have to pee in the middle of the night. I have never tryed any kind of sleep aid in my life, I was taking the Trazodone for depression but I love this medication. If I do wake up I can go back to sleep within minutes. Before I would have to take a couple of melatonin to fall back to sleep. It has also taken away my Restless leg syndrome so I no longer have to take medication for that! I think that was caused by the high dose of Trazodone!!Read More Read Less  \n",
      "\n",
      "\n",
      "22\n",
      "ineffective and may have increased my anxiety that is the sole source of the difficulty I have falling asleep. It worked in the very beginning but then after 2 weeks of use, I would fall asleep only to wake up 2 hours later with a panic attack. I dumped the entire bottle down the toilet. I am using other alternatives of which meditation helped the most.\n",
      "\n",
      "\n",
      "23\n",
      "Prescribed ambien 5mg 5years ago took for 2 years every night thought it was amazing at first could finally fall asleep and stay asleep all night after  a year or so started getting panic attacks and anxiety and wild nightmares  that I never had before went to another doctor who said that I never should have taken nightly and for 2 years was taken off slowly and all of the above stopped .   Also experienced ear ringing with OTC sleeping pills I now take 3mg melatonin and chelated magnesium it is working well for me please be careful with this medication it was too good to be true and dangerous Read More Read Less  \n",
      "\n",
      "\n",
      "24\n",
      " The opinions expressed in WebMD User-generated content areas like communities, reviews, ratings, or blogs are solely those of the User, who may or may not have medical or scientific training. These opinions do not represent the opinions of WebMD. User-generated content areas are not reviewed by a WebMD physician or any member of the WebMD editorial staff for accuracy, balance, objectivity, or any other reason except for compliance with our Terms and Conditions. \n",
      "\n",
      "\n",
      "25\n"
     ]
    },
    {
     "ename": "IndexError",
     "evalue": "list index out of range",
     "output_type": "error",
     "traceback": [
      "\u001b[1;31m---------------------------------------------------------------------------\u001b[0m",
      "\u001b[1;31mIndexError\u001b[0m                                Traceback (most recent call last)",
      "\u001b[1;32m~\\AppData\\Local\\Temp/ipykernel_8756/2557956134.py\u001b[0m in \u001b[0;36m<module>\u001b[1;34m\u001b[0m\n\u001b[0;32m      1\u001b[0m \u001b[1;32mfor\u001b[0m \u001b[0mi\u001b[0m \u001b[1;32min\u001b[0m \u001b[0mrange\u001b[0m\u001b[1;33m(\u001b[0m\u001b[1;36m7\u001b[0m\u001b[1;33m,\u001b[0m\u001b[1;36m26\u001b[0m\u001b[1;33m)\u001b[0m\u001b[1;33m:\u001b[0m\u001b[1;33m\u001b[0m\u001b[1;33m\u001b[0m\u001b[0m\n\u001b[0;32m      2\u001b[0m     \u001b[0mprint\u001b[0m\u001b[1;33m(\u001b[0m\u001b[0mi\u001b[0m\u001b[1;33m)\u001b[0m\u001b[1;33m\u001b[0m\u001b[1;33m\u001b[0m\u001b[0m\n\u001b[1;32m----> 3\u001b[1;33m     \u001b[1;32mif\u001b[0m \u001b[0mcontent\u001b[0m\u001b[1;33m[\u001b[0m\u001b[0mi\u001b[0m\u001b[1;33m]\u001b[0m\u001b[1;33m.\u001b[0m\u001b[0mtext\u001b[0m \u001b[1;33m==\u001b[0m\u001b[1;34m\"\"\u001b[0m\u001b[1;33m:\u001b[0m\u001b[1;33m\u001b[0m\u001b[1;33m\u001b[0m\u001b[0m\n\u001b[0m\u001b[0;32m      4\u001b[0m         \u001b[1;32mpass\u001b[0m\u001b[1;33m\u001b[0m\u001b[1;33m\u001b[0m\u001b[0m\n\u001b[0;32m      5\u001b[0m     \u001b[0mprint\u001b[0m\u001b[1;33m(\u001b[0m\u001b[0mcontent\u001b[0m\u001b[1;33m[\u001b[0m\u001b[0mi\u001b[0m\u001b[1;33m]\u001b[0m\u001b[1;33m.\u001b[0m\u001b[0mtext\u001b[0m\u001b[1;33m)\u001b[0m\u001b[1;33m\u001b[0m\u001b[1;33m\u001b[0m\u001b[0m\n",
      "\u001b[1;31mIndexError\u001b[0m: list index out of range"
     ]
    }
   ],
   "source": [
    "for i in range(7,26):\n",
    "    print(i)\n",
    "    if content[i].text ==\"\":\n",
    "        pass\n",
    "    print(content[i].text)\n",
    "    print('\\n')"
   ]
  },
  {
   "cell_type": "code",
   "execution_count": 13,
   "id": "cda4dd3a",
   "metadata": {},
   "outputs": [
    {
     "name": "stdout",
     "output_type": "stream",
     "text": [
      "6\n",
      "\n",
      "        No data\n",
      "      \n",
      "7\n",
      "Although it helps you fall asleep, it often stays in your system for greater than 8 hours. Per 60 minutes, it can impair cognition equivalent to being legally drunk. It was not safe to take on days that I was working. \n",
      "8\n",
      "I have hyperinsomina and I take Ambien CR it keeps me sleep an puts me to sleep very quickly. Just have to make sure you can have eight hrs of sleep.\n",
      "9\n",
      "Works great when you have trouble falling asleep, not so good when you get addicted to it/use it recreationaly. Going cold turkey off of it is pretty shitty. But overall really effective. \n"
     ]
    }
   ],
   "source": [
    "for i in range(6,10):\n",
    "    print(i)\n",
    "    print(content[i].text)"
   ]
  },
  {
   "cell_type": "code",
   "execution_count": 15,
   "id": "758cf4da",
   "metadata": {},
   "outputs": [
    {
     "name": "stdout",
     "output_type": "stream",
     "text": [
      "[<h3><a data-metrics-link=\"header\" href=\"https://www.webmd.com/drugs/2/index\">DRUGS AND MEDICATIONS CENTER</a></h3>, <h3><a data-metrics-link=\"header\" href=\"https://www.webmd.com/vitamins/index\">VITAMINS &amp; SUPPLEMENTS CENTER</a></h3>, <h3><a data-metrics-link=\"header\" href=\"https://www.webmd.com/first-aid/default.htm\">FIRST AID RESOURCES</a></h3>, <h3>Effectiveness</h3>, <h3>Ease of Use</h3>, <h3>Satisfaction</h3>, <h3>Most voted positive review</h3>, <h3>Most voted negative review</h3>, <h3>Shared reviews and ratings</h3>, <h3>IMPORTANT INFORMATION ABOUT USER-GENERATED CONTENT ON WEBMD</h3>, <h3>More About Drugs and Medications</h3>, <h3>Health Solutions</h3>, <h3>More from WebMD</h3>, <h3 class=\"expanded\"> Policies <!-- --></h3>, <h3> About <i class=\"webmd-icon-down-arrow\"></i></h3>, <h3> WebMD Network <i class=\"webmd-icon-down-arrow\"></i></h3>, <h3> Our Apps <i class=\"webmd-icon-down-arrow\"></i></h3>, <h3> For Advertisers <i class=\"webmd-icon-down-arrow\"></i></h3>]\n"
     ]
    }
   ],
   "source": [
    "g = soup.find_all('h3')\n",
    "#content = g.find_all('p')\n",
    " \n",
    "print(g)"
   ]
  },
  {
   "cell_type": "code",
   "execution_count": 16,
   "id": "600aa052",
   "metadata": {},
   "outputs": [
    {
     "name": "stdout",
     "output_type": "stream",
     "text": [
      "DRUGS AND MEDICATIONS CENTER\n",
      "VITAMINS & SUPPLEMENTS CENTER\n",
      "FIRST AID RESOURCES\n",
      "Effectiveness\n",
      "Ease of Use\n",
      "Satisfaction\n",
      "Most voted positive review\n",
      "Most voted negative review\n",
      "Shared reviews and ratings\n",
      "IMPORTANT INFORMATION ABOUT USER-GENERATED CONTENT ON WEBMD\n",
      "More About Drugs and Medications\n",
      "Health Solutions\n",
      "More from WebMD\n",
      " Policies \n",
      " About \n",
      " WebMD Network \n",
      " Our Apps \n",
      " For Advertisers \n"
     ]
    }
   ],
   "source": [
    "for i in g:\n",
    "    print(i.text)"
   ]
  },
  {
   "cell_type": "code",
   "execution_count": 19,
   "id": "a689882e",
   "metadata": {},
   "outputs": [
    {
     "ename": "AttributeError",
     "evalue": "ResultSet object has no attribute 'find'. You're probably treating a list of elements like a single element. Did you call find_all() when you meant to call find()?",
     "output_type": "error",
     "traceback": [
      "\u001b[1;31m---------------------------------------------------------------------------\u001b[0m",
      "\u001b[1;31mAttributeError\u001b[0m                            Traceback (most recent call last)",
      "\u001b[1;32m~\\AppData\\Local\\Temp/ipykernel_8756/359362071.py\u001b[0m in \u001b[0;36m<module>\u001b[1;34m\u001b[0m\n\u001b[0;32m      1\u001b[0m \u001b[0mg\u001b[0m \u001b[1;33m=\u001b[0m \u001b[0msoup\u001b[0m\u001b[1;33m.\u001b[0m\u001b[0mfind_all\u001b[0m\u001b[1;33m(\u001b[0m\u001b[1;34m'h3'\u001b[0m\u001b[1;33m)\u001b[0m\u001b[1;33m\u001b[0m\u001b[1;33m\u001b[0m\u001b[0m\n\u001b[1;32m----> 2\u001b[1;33m \u001b[0mcontent\u001b[0m \u001b[1;33m=\u001b[0m \u001b[0mg\u001b[0m\u001b[1;33m.\u001b[0m\u001b[0mfind\u001b[0m\u001b[1;33m(\u001b[0m\u001b[1;34m'div'\u001b[0m\u001b[1;33m,\u001b[0m \u001b[1;33m{\u001b[0m\u001b[1;34m'class'\u001b[0m\u001b[1;33m:\u001b[0m\u001b[1;34m\"review-details-holder\"\u001b[0m\u001b[1;33m}\u001b[0m\u001b[1;33m)\u001b[0m\u001b[1;33m\u001b[0m\u001b[1;33m\u001b[0m\u001b[0m\n\u001b[0m\u001b[0;32m      3\u001b[0m \u001b[1;33m\u001b[0m\u001b[0m\n\u001b[0;32m      4\u001b[0m \u001b[0mprint\u001b[0m\u001b[1;33m(\u001b[0m\u001b[0mcontent\u001b[0m\u001b[1;33m)\u001b[0m\u001b[1;33m\u001b[0m\u001b[1;33m\u001b[0m\u001b[0m\n",
      "\u001b[1;32mC:\\Python\\Python391\\lib\\site-packages\\bs4\\element.py\u001b[0m in \u001b[0;36m__getattr__\u001b[1;34m(self, key)\u001b[0m\n\u001b[0;32m   2251\u001b[0m     \u001b[1;32mdef\u001b[0m \u001b[0m__getattr__\u001b[0m\u001b[1;33m(\u001b[0m\u001b[0mself\u001b[0m\u001b[1;33m,\u001b[0m \u001b[0mkey\u001b[0m\u001b[1;33m)\u001b[0m\u001b[1;33m:\u001b[0m\u001b[1;33m\u001b[0m\u001b[1;33m\u001b[0m\u001b[0m\n\u001b[0;32m   2252\u001b[0m         \u001b[1;34m\"\"\"Raise a helpful exception to explain a common code fix.\"\"\"\u001b[0m\u001b[1;33m\u001b[0m\u001b[1;33m\u001b[0m\u001b[0m\n\u001b[1;32m-> 2253\u001b[1;33m         raise AttributeError(\n\u001b[0m\u001b[0;32m   2254\u001b[0m             \u001b[1;34m\"ResultSet object has no attribute '%s'. You're probably treating a list of elements like a single element. Did you call find_all() when you meant to call find()?\"\u001b[0m \u001b[1;33m%\u001b[0m \u001b[0mkey\u001b[0m\u001b[1;33m\u001b[0m\u001b[1;33m\u001b[0m\u001b[0m\n\u001b[0;32m   2255\u001b[0m         )\n",
      "\u001b[1;31mAttributeError\u001b[0m: ResultSet object has no attribute 'find'. You're probably treating a list of elements like a single element. Did you call find_all() when you meant to call find()?"
     ]
    }
   ],
   "source": [
    "g = soup.find_all('h3')\n",
    "content = g.find('div', {'class':\"review-details-holder\"})\n",
    "\n",
    "print(content)"
   ]
  },
  {
   "cell_type": "code",
   "execution_count": null,
   "id": "6ac867f4",
   "metadata": {},
   "outputs": [],
   "source": []
  }
 ],
 "metadata": {
  "kernelspec": {
   "display_name": "Python 3 (ipykernel)",
   "language": "python",
   "name": "python3"
  },
  "language_info": {
   "codemirror_mode": {
    "name": "ipython",
    "version": 3
   },
   "file_extension": ".py",
   "mimetype": "text/x-python",
   "name": "python",
   "nbconvert_exporter": "python",
   "pygments_lexer": "ipython3",
   "version": "3.9.5"
  }
 },
 "nbformat": 4,
 "nbformat_minor": 5
}
