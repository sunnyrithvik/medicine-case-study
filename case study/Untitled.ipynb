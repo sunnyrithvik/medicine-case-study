{
 "cells": [
  {
   "cell_type": "code",
   "execution_count": 2,
   "id": "b9ee4ed7",
   "metadata": {},
   "outputs": [
    {
     "name": "stdout",
     "output_type": "stream",
     "text": [
      "The original string : GeeksforGeeks is | best | for | geeks\n",
      "The split string : |\n",
      "String before the substring occurrence : GeeksforGeeks is \n"
     ]
    }
   ],
   "source": [
    "# Python3 code to demonstrate\n",
    "# String till Substring\n",
    "# using partition()\n",
    " \n",
    "# initializing string\n",
    "test_string = \"GeeksforGeeks is | best | for | geeks\"\n",
    " \n",
    "# initializing split word\n",
    "spl_word = '|'\n",
    " \n",
    "# printing original string\n",
    "print(\"The original string : \" + str(test_string))\n",
    " \n",
    "# printing split string\n",
    "print(\"The split string : \" + str(spl_word))\n",
    " \n",
    "# using partition()\n",
    "# String till Substring\n",
    "res = test_string.partition(spl_word)[0]\n",
    " \n",
    "# print result\n",
    "print(\"String before the substring occurrence : \" + res)"
   ]
  },
  {
   "cell_type": "code",
   "execution_count": null,
   "id": "97a8f541",
   "metadata": {},
   "outputs": [],
   "source": []
  }
 ],
 "metadata": {
  "kernelspec": {
   "display_name": "Python 3 (ipykernel)",
   "language": "python",
   "name": "python3"
  },
  "language_info": {
   "codemirror_mode": {
    "name": "ipython",
    "version": 3
   },
   "file_extension": ".py",
   "mimetype": "text/x-python",
   "name": "python",
   "nbconvert_exporter": "python",
   "pygments_lexer": "ipython3",
   "version": "3.9.5"
  }
 },
 "nbformat": 4,
 "nbformat_minor": 5
}
